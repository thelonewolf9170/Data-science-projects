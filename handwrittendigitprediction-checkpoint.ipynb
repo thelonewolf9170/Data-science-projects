{
 "cells": [
  {
   "cell_type": "markdown",
   "id": "e750c8a9-d682-4ca0-b79f-9743e38e74e0",
   "metadata": {},
   "source": [
    "Hand written digit prediction"
   ]
  },
  {
   "cell_type": "code",
   "execution_count": null,
   "id": "5f4ca500-880a-43f3-8801-796abf2ce10e",
   "metadata": {},
   "outputs": [],
   "source": [
    "import pandas as pd\n",
    "import numpy as np\n",
    "import matplotlib.pyplot as plt"
   ]
  },
  {
   "cell_type": "code",
   "execution_count": 3,
   "id": "f91946b5-1d64-4991-bfcd-fe4d84f07ad2",
   "metadata": {},
   "outputs": [],
   "source": [
    "from sklearn.datasets import load_digits"
   ]
  },
  {
   "cell_type": "code",
   "execution_count": 4,
   "id": "6ac934a4-a31e-472d-a9cd-603d531482cc",
   "metadata": {},
   "outputs": [],
   "source": [
    "df=load_digits()"
   ]
  },
  {
   "cell_type": "code",
   "execution_count": 7,
   "id": "bc7a8694-14e7-41a6-aee1-d26e8c6c4ed4",
   "metadata": {},
   "outputs": [
    {
     "data": {
      "image/png": "[encoded data removed]",
      "text/plain": [
       "<Figure size 720x216 with 4 Axes>"
      ]
     },
     "metadata": {
      "needs_background": "light"
     },
     "output_type": "display_data"
    }
   ],
   "source": [
    "_, axes=plt.subplots(nrows=1, ncols=4, figsize=(10, 3))\n",
    "for ax, image, label in zip(axes, df.images, df.target):\n",
    "    ax.set_axis_off()\n",
    "    ax.imshow(image, cmap=plt.cm.gray_r, interpolation=\"nearest\")\n",
    "    ax.set_title(\"Training: %i\" % label)"
   ]
  },
  {
   "cell_type": "code",
   "execution_count": 8,
   "id": "d8c2d339-0bab-45f1-8d80-a3e181347aaa",
   "metadata": {},
   "outputs": [
    {
     "data": {
      "text/plain": [
       "(1797, 8, 8)"
      ]
     },
     "execution_count": 8,
     "metadata": {},
     "output_type": "execute_result"
    }
   ],
   "source": [
    "df.images.shape"
   ]
  },
  {
   "cell_type": "code",
   "execution_count": 9,
   "id": "a43a83f5-36c6-4d0a-8cee-14f1c886bcd1",
   "metadata": {},
   "outputs": [
    {
     "data": {
      "text/plain": [
       "array([[ 0.,  0.,  5., 13.,  9.,  1.,  0.,  0.],\n",
       "       [ 0.,  0., 13., 15., 10., 15.,  5.,  0.],\n",
       "       [ 0.,  3., 15.,  2.,  0., 11.,  8.,  0.],\n",
       "       [ 0.,  4., 12.,  0.,  0.,  8.,  8.,  0.],\n",
       "       [ 0.,  5.,  8.,  0.,  0.,  9.,  8.,  0.],\n",
       "       [ 0.,  4., 11.,  0.,  1., 12.,  7.,  0.],\n",
       "       [ 0.,  2., 14.,  5., 10., 12.,  0.,  0.],\n",
       "       [ 0.,  0.,  6., 13., 10.,  0.,  0.,  0.]])"
      ]
     },
     "execution_count": 9,
     "metadata": {},
     "output_type": "execute_result"
    }
   ],
   "source": [
    "df.images[0]"
   ]
  },
  {
   "cell_type": "code",
   "execution_count": 10,
   "id": "7aa580c8-e67c-47f8-867a-5272852141b8",
   "metadata": {},
   "outputs": [
    {
     "data": {
      "text/plain": [
       "(8, 8)"
      ]
     },
     "execution_count": 10,
     "metadata": {},
     "output_type": "execute_result"
    }
   ],
   "source": [
    "df.images[0].shape"
   ]
  },
  {
   "cell_type": "code",
   "execution_count": 11,
   "id": "099b90a3-014a-4371-86be-c1f4e387beaa",
   "metadata": {},
   "outputs": [
    {
     "data": {
      "text/plain": [
       "1797"
      ]
     },
     "execution_count": 11,
     "metadata": {},
     "output_type": "execute_result"
    }
   ],
   "source": [
    "len(df.images)"
   ]
  },
  {
   "cell_type": "code",
   "execution_count": 12,
   "id": "f2a34485-7954-48d8-844f-fc7238824e6d",
   "metadata": {},
   "outputs": [],
   "source": [
    "n_samples=len(df.images)\n",
    "data=df.images.reshape((n_samples, -1))"
   ]
  },
  {
   "cell_type": "code",
   "execution_count": 13,
   "id": "7a69a4d3-dcbc-4c6d-8b4d-8a048b27c9c7",
   "metadata": {},
   "outputs": [
    {
     "data": {
      "text/plain": [
       "array([ 0.,  0.,  5., 13.,  9.,  1.,  0.,  0.,  0.,  0., 13., 15., 10.,\n",
       "       15.,  5.,  0.,  0.,  3., 15.,  2.,  0., 11.,  8.,  0.,  0.,  4.,\n",
       "       12.,  0.,  0.,  8.,  8.,  0.,  0.,  5.,  8.,  0.,  0.,  9.,  8.,\n",
       "        0.,  0.,  4., 11.,  0.,  1., 12.,  7.,  0.,  0.,  2., 14.,  5.,\n",
       "       10., 12.,  0.,  0.,  0.,  0.,  6., 13., 10.,  0.,  0.,  0.])"
      ]
     },
     "execution_count": 13,
     "metadata": {},
     "output_type": "execute_result"
    }
   ],
   "source": [
    "data[0]"
   ]
  },
  {
   "cell_type": "code",
   "execution_count": 14,
   "id": "cf5f7eff-6605-4562-9551-1f2800abc79e",
   "metadata": {},
   "outputs": [
    {
     "data": {
      "text/plain": [
       "(64,)"
      ]
     },
     "execution_count": 14,
     "metadata": {},
     "output_type": "execute_result"
    }
   ],
   "source": [
    "data[0].shape"
   ]
  },
  {
   "cell_type": "code",
   "execution_count": 15,
   "id": "2df867a4-96c4-4650-b01b-26e30d160120",
   "metadata": {},
   "outputs": [
    {
     "data": {
      "text/plain": [
       "(1797, 64)"
      ]
     },
     "execution_count": 15,
     "metadata": {},
     "output_type": "execute_result"
    }
   ],
   "source": [
    "data.shape"
   ]
  },
  {
   "cell_type": "code",
   "execution_count": 16,
   "id": "719ba46d-bfcc-4ec4-ae90-16f657a96cb3",
   "metadata": {},
   "outputs": [
    {
     "data": {
      "text/plain": [
       "0.0"
      ]
     },
     "execution_count": 16,
     "metadata": {},
     "output_type": "execute_result"
    }
   ],
   "source": [
    "data.min()"
   ]
  },
  {
   "cell_type": "code",
   "execution_count": 17,
   "id": "f0e5ea44-ba91-440b-918d-0958bb14e01d",
   "metadata": {},
   "outputs": [
    {
     "data": {
      "text/plain": [
       "16.0"
      ]
     },
     "execution_count": 17,
     "metadata": {},
     "output_type": "execute_result"
    }
   ],
   "source": [
    "data.max()"
   ]
  },
  {
   "cell_type": "code",
   "execution_count": 18,
   "id": "7705393b-e601-4caa-ab38-36226b6bae71",
   "metadata": {},
   "outputs": [],
   "source": [
    "data=data/16"
   ]
  },
  {
   "cell_type": "code",
   "execution_count": 19,
   "id": "7a147450-a864-45c7-9937-0e69922a0be8",
   "metadata": {},
   "outputs": [
    {
     "data": {
      "text/plain": [
       "0.0"
      ]
     },
     "execution_count": 19,
     "metadata": {},
     "output_type": "execute_result"
    }
   ],
   "source": [
    "data.min()"
   ]
  },
  {
   "cell_type": "code",
   "execution_count": 20,
   "id": "62e80623-b427-4cda-b9d0-d607565267cc",
   "metadata": {},
   "outputs": [
    {
     "data": {
      "text/plain": [
       "1.0"
      ]
     },
     "execution_count": 20,
     "metadata": {},
     "output_type": "execute_result"
    }
   ],
   "source": [
    "data.max()"
   ]
  },
  {
   "cell_type": "code",
   "execution_count": 21,
   "id": "cec53633-cf7c-4db7-a500-9e04ed9c01fb",
   "metadata": {},
   "outputs": [
    {
     "data": {
      "text/plain": [
       "array([0.    , 0.    , 0.3125, 0.8125, 0.5625, 0.0625, 0.    , 0.    ,\n",
       "       0.    , 0.    , 0.8125, 0.9375, 0.625 , 0.9375, 0.3125, 0.    ,\n",
       "       0.    , 0.1875, 0.9375, 0.125 , 0.    , 0.6875, 0.5   , 0.    ,\n",
       "       0.    , 0.25  , 0.75  , 0.    , 0.    , 0.5   , 0.5   , 0.    ,\n",
       "       0.    , 0.3125, 0.5   , 0.    , 0.    , 0.5625, 0.5   , 0.    ,\n",
       "       0.    , 0.25  , 0.6875, 0.    , 0.0625, 0.75  , 0.4375, 0.    ,\n",
       "       0.    , 0.125 , 0.875 , 0.3125, 0.625 , 0.75  , 0.    , 0.    ,\n",
       "       0.    , 0.    , 0.375 , 0.8125, 0.625 , 0.    , 0.    , 0.    ])"
      ]
     },
     "execution_count": 21,
     "metadata": {},
     "output_type": "execute_result"
    }
   ],
   "source": [
    "data[0]"
   ]
  },
  {
   "cell_type": "code",
   "execution_count": 22,
   "id": "de3907b8-f0c7-476b-acb9-717839ab8192",
   "metadata": {},
   "outputs": [],
   "source": [
    "from sklearn.model_selection import train_test_split\n",
    "X_train, X_test, y_train, y_test=train_test_split(data, df.target, test_size=0.3)"
   ]
  },
  {
   "cell_type": "code",
   "execution_count": 23,
   "id": "3c12d1b2-33e1-4307-a18a-1be6b847203d",
   "metadata": {},
   "outputs": [
    {
     "data": {
      "text/plain": [
       "((1257, 64), (540, 64), (1257,), (540,))"
      ]
     },
     "execution_count": 23,
     "metadata": {},
     "output_type": "execute_result"
    }
   ],
   "source": [
    "X_train.shape, X_test.shape, y_train.shape, y_test.shape"
   ]
  },
  {
   "cell_type": "code",
   "execution_count": 24,
   "id": "29ae47b7-f0e5-4328-af7c-2e4df4950892",
   "metadata": {},
   "outputs": [],
   "source": [
    "from sklearn.ensemble import RandomForestClassifier"
   ]
  },
  {
   "cell_type": "code",
   "execution_count": 25,
   "id": "8cf9591a-325b-46a5-b4f7-7139bdad5cf5",
   "metadata": {},
   "outputs": [],
   "source": [
    "rf=RandomForestClassifier()"
   ]
  },
  {
   "cell_type": "code",
   "execution_count": 26,
   "id": "f75ab3a6-50d7-4a62-a24e-218c952207ae",
   "metadata": {},
   "outputs": [
    {
     "data": {
      "text/plain": [
       "RandomForestClassifier()"
      ]
     },
     "execution_count": 26,
     "metadata": {},
     "output_type": "execute_result"
    }
   ],
   "source": [
    "rf.fit(X_train, y_train)"
   ]
  },
  {
   "cell_type": "code",
   "execution_count": 27,
   "id": "83a149c7-ca8f-4701-a994-2c421667109f",
   "metadata": {},
   "outputs": [],
   "source": [
    "y_pred=rf.predict(X_test)"
   ]
  },
  {
   "cell_type": "code",
   "execution_count": 28,
   "id": "c89fe9e0-22cf-41d5-a1d8-102db1a3dd68",
   "metadata": {},
   "outputs": [
    {
     "data": {
      "text/plain": [
       "array([3, 0, 0, 6, 5, 1, 9, 9, 3, 0, 1, 6, 5, 6, 8, 4, 9, 2, 1, 3, 9, 8,\n",
       "       4, 2, 0, 2, 8, 9, 2, 9, 2, 1, 3, 1, 7, 2, 2, 4, 6, 3, 6, 2, 3, 0,\n",
       "       3, 0, 3, 7, 7, 5, 5, 8, 3, 2, 5, 3, 2, 2, 2, 0, 1, 0, 2, 3, 6, 5,\n",
       "       8, 4, 2, 1, 1, 0, 8, 8, 6, 4, 1, 6, 5, 6, 9, 7, 4, 3, 7, 9, 0, 2,\n",
       "       0, 1, 3, 9, 7, 2, 6, 1, 4, 1, 0, 3, 7, 3, 1, 3, 9, 1, 7, 7, 4, 7,\n",
       "       4, 7, 1, 5, 0, 0, 9, 2, 4, 7, 2, 4, 6, 4, 5, 6, 0, 6, 2, 1, 9, 7,\n",
       "       3, 6, 1, 9, 1, 3, 4, 1, 3, 8, 5, 1, 2, 1, 4, 0, 5, 8, 6, 9, 9, 9,\n",
       "       0, 2, 0, 0, 8, 3, 4, 3, 9, 8, 9, 4, 1, 9, 4, 0, 1, 0, 0, 6, 3, 3,\n",
       "       0, 1, 9, 3, 2, 0, 9, 9, 2, 8, 0, 2, 9, 9, 1, 3, 2, 5, 7, 4, 8, 3,\n",
       "       3, 8, 4, 4, 2, 6, 3, 9, 6, 7, 1, 4, 5, 3, 5, 9, 7, 5, 9, 6, 4, 0,\n",
       "       7, 0, 8, 1, 7, 9, 1, 5, 4, 4, 3, 7, 4, 5, 9, 5, 4, 5, 6, 3, 7, 0,\n",
       "       5, 5, 6, 1, 7, 9, 3, 7, 7, 4, 1, 1, 6, 6, 4, 0, 9, 1, 4, 8, 2, 5,\n",
       "       0, 1, 5, 0, 0, 8, 3, 9, 4, 9, 3, 4, 2, 1, 8, 1, 4, 2, 2, 6, 8, 1,\n",
       "       8, 7, 0, 6, 3, 3, 7, 7, 8, 5, 6, 6, 1, 0, 0, 8, 0, 2, 7, 5, 9, 6,\n",
       "       6, 4, 4, 1, 7, 9, 1, 8, 9, 3, 9, 7, 2, 1, 8, 5, 5, 8, 1, 9, 0, 5,\n",
       "       2, 4, 7, 8, 2, 7, 9, 1, 4, 3, 4, 7, 5, 8, 5, 3, 7, 9, 1, 2, 8, 2,\n",
       "       2, 8, 1, 0, 9, 9, 3, 0, 6, 3, 1, 6, 2, 0, 3, 4, 3, 1, 6, 8, 3, 2,\n",
       "       4, 4, 8, 1, 7, 0, 8, 4, 0, 8, 1, 3, 8, 7, 8, 7, 5, 3, 3, 0, 6, 5,\n",
       "       6, 4, 4, 7, 3, 2, 6, 2, 7, 5, 8, 7, 0, 4, 2, 2, 5, 8, 2, 4, 7, 3,\n",
       "       0, 6, 8, 0, 3, 6, 9, 2, 5, 8, 6, 1, 6, 2, 5, 3, 7, 4, 5, 6, 2, 8,\n",
       "       5, 6, 3, 1, 4, 9, 1, 1, 5, 8, 5, 6, 0, 1, 7, 7, 7, 4, 1, 6, 7, 6,\n",
       "       9, 5, 4, 6, 4, 0, 5, 7, 9, 0, 1, 7, 4, 5, 4, 4, 7, 4, 2, 3, 9, 7,\n",
       "       9, 8, 4, 9, 1, 9, 0, 1, 5, 0, 7, 2, 5, 6, 2, 9, 4, 3, 3, 7, 1, 4,\n",
       "       4, 2, 0, 5, 9, 8, 1, 1, 8, 7, 9, 4, 5, 7, 9, 8, 7, 9, 6, 8, 9, 3,\n",
       "       7, 0, 1, 5, 0, 8, 0, 0, 9, 8, 1, 0])"
      ]
     },
     "execution_count": 28,
     "metadata": {},
     "output_type": "execute_result"
    }
   ],
   "source": [
    "y_pred"
   ]
  },
  {
   "cell_type": "code",
   "execution_count": 30,
   "id": "106ce738-4991-4213-986d-dd7f7a46f145",
   "metadata": {},
   "outputs": [],
   "source": [
    "from sklearn.metrics import confusion_matrix, classification_report"
   ]
  },
  {
   "cell_type": "code",
   "execution_count": 31,
   "id": "c6e4042a-5142-4bf6-9b0a-8500f128efa6",
   "metadata": {},
   "outputs": [
    {
     "data": {
      "text/plain": [
       "array([[56,  0,  0,  0,  1,  0,  0,  0,  0,  0],\n",
       "       [ 0, 59,  0,  0,  0,  0,  0,  0,  0,  0],\n",
       "       [ 1,  1, 51,  0,  0,  0,  0,  0,  0,  0],\n",
       "       [ 0,  0,  0, 56,  0,  0,  0,  1,  0,  0],\n",
       "       [ 0,  0,  0,  0, 58,  0,  0,  1,  0,  0],\n",
       "       [ 0,  0,  0,  0,  0, 46,  0,  0,  0,  0],\n",
       "       [ 0,  0,  0,  0,  0,  0, 47,  0,  0,  0],\n",
       "       [ 0,  0,  0,  0,  0,  0,  0, 52,  0,  0],\n",
       "       [ 0,  2,  0,  0,  0,  1,  0,  1, 48,  1],\n",
       "       [ 0,  0,  0,  0,  0,  1,  0,  0,  0, 56]], dtype=int64)"
      ]
     },
     "execution_count": 31,
     "metadata": {},
     "output_type": "execute_result"
    }
   ],
   "source": [
    "confusion_matrix(y_test, y_pred)"
   ]
  },
  {
   "cell_type": "code",
   "execution_count": 32,
   "id": "b9a3d34e-29a6-4a9d-b0f0-af904af5c430",
   "metadata": {},
   "outputs": [
    {
     "name": "stdout",
     "output_type": "stream",
     "text": [
      "              precision    recall  f1-score   support\n",
      "\n",
      "           0       0.98      0.98      0.98        57\n",
      "           1       0.95      1.00      0.98        59\n",
      "           2       1.00      0.96      0.98        53\n",
      "           3       1.00      0.98      0.99        57\n",
      "           4       0.98      0.98      0.98        59\n",
      "           5       0.96      1.00      0.98        46\n",
      "           6       1.00      1.00      1.00        47\n",
      "           7       0.95      1.00      0.97        52\n",
      "           8       1.00      0.91      0.95        53\n",
      "           9       0.98      0.98      0.98        57\n",
      "\n",
      "    accuracy                           0.98       540\n",
      "   macro avg       0.98      0.98      0.98       540\n",
      "weighted avg       0.98      0.98      0.98       540\n",
      "\n"
     ]
    }
   ],
   "source": [
    "print(classification_report(y_test, y_pred))"
   ]
  },
  {
   "cell_type": "code",
   "execution_count": null,
   "id": "4146f057-9343-4d07-ac1e-23e5efbcb4dd",
   "metadata": {},
   "outputs": [],
   "source": []
  }
 ],
 "metadata": {
  "kernelspec": {
   "display_name": "Python 3 (ipykernel)",
   "language": "python",
   "name": "python3"
  },
  "language_info": {
   "codemirror_mode": {
    "name": "ipython",
    "version": 3
   },
   "file_extension": ".py",
   "mimetype": "text/x-python",
   "name": "python",
   "nbconvert_exporter": "python",
   "pygments_lexer": "ipython3",
   "version": "3.9.12"
  }
 },
 "nbformat": 4,
 "nbformat_minor": 5
}
